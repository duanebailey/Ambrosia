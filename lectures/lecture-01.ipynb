{
 "cells": [
  {
   "cell_type": "markdown",
   "metadata": {},
   "source": [
    "# Lecture-01: Welcome to Ambrosia\n",
    "This tutorial will take you through some basic Ambrosia functionality through which you can express your creativity through simple commands.\n",
    "\n",
    "One of the basic building blocks in Ambrosia are shapes. You can use Ambrosia to build whatever shape you want. However, for now, lets start with Ambrosia built in shapes. Among the built in shapes, there are cubes, spheres, cones and cylinders. Before going any further, it is important to note that inorder for the Ambrosia system to work, the following statement should be the first command of your Ambrosia commands. This tells the Python to include Ambrosia functionality so that you are able to use it.\n"
   ]
  },
  {
   "cell_type": "code",
   "execution_count": null,
   "metadata": {},
   "outputs": [],
   "source": [
    "from ambrosia import *"
   ]
  },
  {
   "cell_type": "markdown",
   "metadata": {},
   "source": [
    "Don't worry about this function for now. It takes care of how ambrosia displayes images from in this page"
   ]
  },
  {
   "cell_type": "code",
   "execution_count": null,
   "metadata": {},
   "outputs": [],
   "source": [
    "def reset():\n",
    "    global sphere, cube, cylinder, cone, scene, camera, image, bulb\n",
    "    sphere = Sphere()\n",
    "    cube = Cube()\n",
    "    cylinder = Cylinder()\n",
    "    cone = Cone()\n",
    "    bulb = Light().color(white)\n",
    "    scene = Group().add(bulb,translate(0,300,-300))\n",
    "    camera = Camera().subject(scene)\n",
    "    image = camera.getImage()"
   ]
  },
  {
   "cell_type": "markdown",
   "metadata": {},
   "source": [
    "Let's create and display some shapes using the ambrosia system. We are going to start with a yellow plastered cube."
   ]
  },
  {
   "cell_type": "code",
   "execution_count": null,
   "metadata": {},
   "outputs": [],
   "source": [
    "from ambrosia import *\n",
    "reset()\n",
    "\n",
    "scene.add(cube, yellowPlaster)\n",
    "\n",
    "camera.shoot(scene)"
   ]
  },
  {
   "cell_type": "markdown",
   "metadata": {},
   "source": [
    "Notice that  ``` scene.add(cube, yellowPlaster) ``` creates a yellow plastered cube and adds it to the scene. Let's now create and display a red plastered cone."
   ]
  },
  {
   "cell_type": "code",
   "execution_count": null,
   "metadata": {},
   "outputs": [],
   "source": [
    "from ambrosia import *\n",
    "scene.add(cone, redPlaster)\n",
    "\n",
    "camera.shoot(scene)"
   ]
  },
  {
   "cell_type": "markdown",
   "metadata": {},
   "source": [
    "It is important to include ```camera.shoot(scene) ```so that an image of the shape you have created and added to the scene can be displayed. \n",
    "\n",
    "It is your turn now. Try changing the color of the following sphere to be green plaster. You should only change one line among the commads directly below. For reference, the following are some of the predefined ambrosia colors:\n",
    "* green, yellow, cyan, blue, magenta, white, ltGray, gray, dkGray, purple and black"
   ]
  },
  {
   "cell_type": "code",
   "execution_count": null,
   "metadata": {},
   "outputs": [],
   "source": [
    "from ambrosia import *\n",
    "reset()\n",
    "\n",
    "scene.add(sphere, redPlaster)\n",
    "\n",
    "camera.shoot(scene)"
   ]
  },
  {
   "cell_type": "markdown",
   "metadata": {},
   "source": [
    "What about changing the following red plastered cube to be black plastered? You should also only change one line among the commands directly below."
   ]
  },
  {
   "cell_type": "code",
   "execution_count": null,
   "metadata": {},
   "outputs": [],
   "source": [
    "from ambrosia import *\n",
    "reset()\n",
    "\n",
    "scene.add(cube, redPlaster)\n",
    "\n",
    "camera.shoot(scene)"
   ]
  },
  {
   "cell_type": "markdown",
   "metadata": {},
   "source": [
    "Create and display and a blue sphere by adding a single line to the following commands. Notice the ongoing pattern among commands, it will be very helpful while working with ambrosia."
   ]
  },
  {
   "cell_type": "code",
   "execution_count": null,
   "metadata": {},
   "outputs": [],
   "source": [
    "from ambrosia import *\n",
    "reset()\n",
    "\n",
    "camera.shoot(scene)"
   ]
  },
  {
   "cell_type": "markdown",
   "metadata": {},
   "source": [
    "As mentioned earlier, ambrosia has predefined cones, cylinders, cubes and spheres as some of its basic shapes. Now, can you try creating and displaying a gray plastered cylinder by adding a single line to following commands. Use the predefined colors mentioned above to achieve this. Notice the pattern ```<color>Plaster``` that has been followed up to this point. You can also use the pattern ```<color>Plastic``` for minimally shiny shapes."
   ]
  },
  {
   "cell_type": "code",
   "execution_count": null,
   "metadata": {},
   "outputs": [],
   "source": [
    "from ambrosia import *\n",
    "reset()\n",
    "\n",
    "\n",
    "camera.shoot(scene)"
   ]
  },
  {
   "cell_type": "markdown",
   "metadata": {},
   "source": [
    "With the examples and simple exercises above, you probably have noticed a pattern(s) among ambrosia commands. Can you use the pattern to create and display a yellow plastered cylinder below?"
   ]
  },
  {
   "cell_type": "code",
   "execution_count": null,
   "metadata": {},
   "outputs": [],
   "source": []
  },
  {
   "cell_type": "markdown",
   "metadata": {},
   "source": [
    "What about a purple plastered cone?"
   ]
  },
  {
   "cell_type": "code",
   "execution_count": null,
   "metadata": {},
   "outputs": [],
   "source": []
  }
 ],
 "metadata": {
  "kernelspec": {
   "display_name": "Python 3",
   "language": "python",
   "name": "python3"
  },
  "language_info": {
   "codemirror_mode": {
    "name": "ipython",
    "version": 3
   },
   "file_extension": ".py",
   "mimetype": "text/x-python",
   "name": "python",
   "nbconvert_exporter": "python",
   "pygments_lexer": "ipython3",
   "version": "3.7.3"
  }
 },
 "nbformat": 4,
 "nbformat_minor": 2
}
