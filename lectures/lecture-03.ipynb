{
 "cells": [
  {
   "cell_type": "markdown",
   "metadata": {},
   "source": [
    "# Documentation\n",
    "\n",
    "#### Even though it may not seem so for now, as you start creating complex models, it becomes very hard to keep track of what you are currently doing especially if you leave it for a while. Furthermore, it becomes harder for people to help you when you encounter problems since they can't understand what you are trying to do. This may make it extremely difficult to find and solve errors which is unpleasant. \n",
    "\n",
    "#### Therefore, it is always a good practice to document what you are trying to do. The best way to do this is through expressive variable names and comments. \n",
    "\n",
    "#### Consider the following two programs producing the same image. Don't worry about the specific details for now that we have not looked at yet."
   ]
  },
  {
   "cell_type": "code",
   "execution_count": 1,
   "metadata": {},
   "outputs": [
    {
     "data": {
      "image/png": "[encoded data removed]",
      "text/plain": [
       "<IPython.core.display.Image object>"
      ]
     },
     "execution_count": 1,
     "metadata": {
      "image/png": {
       "height": 480,
       "width": 640
      }
     },
     "output_type": "execute_result"
    }
   ],
   "source": [
    "# Duane Bailey (c) 2014\n",
    "# A snowman.\n",
    "\n",
    "def reset():\n",
    "    global sphere, cube, cylinder, cone, scene, camera, image, bulb\n",
    "    sphere = Sphere()\n",
    "    cube = Cube()\n",
    "    cylinder = Cylinder()\n",
    "    cone = Cone()\n",
    "    bulb = Light().color(white)\n",
    "    scene = Group().add(bulb,translate(0,300,-300))\n",
    "    camera = Camera().subject(scene)\n",
    "    image = camera.getImage()\n",
    "\n",
    "\n",
    "from ambrosia import *\n",
    "noseSize=.5\n",
    "eyeSize=.1  # size of eye\n",
    "eyeUp=10     # angle of eye, above noze\n",
    "eyeAngle=25  # angle of eye, measured from midline\n",
    "# an orange material\n",
    "orange=(1,0.5,0)\n",
    "orangePlaster = Material()\n",
    "orangePlaster.type('plaster').color(orange)\n",
    "head = Group()\n",
    "head.add(sphere,whitePlaster)\n",
    "head.add(cone,magentaPlaster,translate(0,50,0)*scale(0.24,1,0.24)*scale(noseSize)*xRot(-90)*translate(0,0,-45))\n",
    "head.add(sphere,blackPlaster,scale(eyeSize),translate(0,0,-50)*xRot(eyeUp)*yRot(eyeAngle))\n",
    "head.add(sphere,blackPlaster,scale(eyeSize),translate(0,0,-50)*xRot(eyeUp)*yRot(-eyeAngle))\n",
    "head.translate(0,50,0)\n",
    "head.scale(0.5)\n",
    "# sphere.translate(0,50,0)\n",
    "snowman = Group()\n",
    "snowman.add(sphere,whitePlaster,translate(0,50,0))\n",
    "snowman.add(sphere,whitePlaster,translate(0,50,0)*scale(.75)*translate(0,100,0))\n",
    "snowman.add(head,orangePlaster,translate(0,175,0))\n",
    "# A second head, for 13-old boys:\n",
    "# snowman.add(head,purplePlaster,translate(0,225,0)*yRot(180))\n",
    "scene.add(snowman,scale(golden))\n",
    "# To see him in profile:\n",
    "# scene.add(snowman,scale(golden)*yRot(-90))\n",
    "camera.shoot(scene)"
   ]
  },
  {
   "cell_type": "code",
   "execution_count": 2,
   "metadata": {},
   "outputs": [
    {
     "data": {
      "image/png": "[encoded data removed]",
      "text/plain": [
       "<IPython.core.display.Image object>"
      ]
     },
     "execution_count": 2,
     "metadata": {
      "image/png": {
       "height": 480,
       "width": 640
      }
     },
     "output_type": "execute_result"
    }
   ],
   "source": [
    "from ambrosia import * \n",
    "reset()\n",
    "\n",
    "sizeOne = .5\n",
    "sizeTwo = .1  \n",
    "angleOne = 10 \n",
    "angleTwo = 25 \n",
    "orange = (1, 0.5, 0)\n",
    "orangePlaster = Material()\n",
    "orangePlaster.type('plaster').color(orange)\n",
    "objectOne = Group()\n",
    "objectOne.add(sphere, whitePlaster)\n",
    "objectOne.add(cone, magentaPlaster, translate(0, 50, 0)*scale(0.24, 1, 0.24)\n",
    "         * scale(sizeOne)*xRot(-90)*translate(0, 0, -45))\n",
    "objectOne.add(sphere, blackPlaster, scale(sizeTwo),\n",
    "         translate(0, 0, -50)*xRot(angleOne)*yRot(angleTwo))\n",
    "objectOne.add(sphere, blackPlaster, scale(sizeTwo),\n",
    "         translate(0, 0, -50)*xRot(angleOne)*yRot(-angleTwo))\n",
    "objectOne.translate(0, 50, 0)\n",
    "objectOne.scale(0.5)\n",
    "objectTwo = Group()\n",
    "objectTwo.add(sphere, whitePlaster, translate(0, 50, 0))\n",
    "objectTwo.add(sphere, whitePlaster, translate(\n",
    "    0, 50, 0)*scale(.75)*translate(0, 100, 0))\n",
    "objectTwo.add(objectOne, orangePlaster, translate(0, 175, 0))\n",
    "scene.add(objectTwo, scale(golden))\n",
    "camera.shoot(scene)"
   ]
  },
  {
   "cell_type": "markdown",
   "metadata": {},
   "source": [
    "Which among the two did you find more readable? It was definitely the first one and that was all because of comments (which can be put by \"#\") and expressive variable names. Even though you may still be able to follow through both programs, larger programs of the same style as the second become almost impossible to follow as it hard to understand what is going to by just looking at the code. By just looking at the commands in the second program, you realize right away that you don't even though know what \"objectOne\" and \"objectTwo\" are or what \"angleOne\" and \"angleTwo\". This automatically makes the first program very easy to find and solve errors and to build more upon.\n",
    "\n",
    "#### Therefore, always include documentation in the ambrosia programs (really all programs) you write so that your program is more readable for you and others who may want to help you when you encounter difficulties. The rule of thumb is having variables that describe what the object is and comments that say what the program does."
   ]
  },
  {
   "cell_type": "code",
   "execution_count": null,
   "metadata": {},
   "outputs": [],
   "source": []
  }
 ],
 "metadata": {
  "kernelspec": {
   "display_name": "Python 3",
   "language": "python",
   "name": "python3"
  },
  "language_info": {
   "codemirror_mode": {
    "name": "ipython",
    "version": 3
   },
   "file_extension": ".py",
   "mimetype": "text/x-python",
   "name": "python",
   "nbconvert_exporter": "python",
   "pygments_lexer": "ipython3",
   "version": "3.5.2"
  }
 },
 "nbformat": 4,
 "nbformat_minor": 2
}
