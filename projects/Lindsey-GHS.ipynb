{
 "cells": [
  {
   "cell_type": "markdown",
   "metadata": {},
   "source": [
    "# A Great Horned Sphere\n",
    "(c) 2007 Kathryn Lindsey"
   ]
  },
  {
   "cell_type": "code",
   "execution_count": null,
   "metadata": {},
   "outputs": [],
   "source": [
    "#(c) 2007 Kathryn Lindsey\n",
    "from ambrosia import *\n",
    "\n",
    "# Basic materials\n",
    "woodMat = Material().surfaceImage(\"oak.png\").specularity(0.6).ambient(0.4)\n",
    "goldMat = Material().color((1,.88,.64)).ambient(.2).diffuse(.7).roughness(.1).reflection(.5).specularity(.4)\n",
    "\n",
    "# Build an oak box:\n",
    "oakBox = Mesh()\n",
    "uvUnit = [[0,0],[0,1],[1,1],[1,0]]\n",
    "oakBox.addUVPoly([(-250,-100,-250),(-250,-75,250),(250,-75,250),(250,-100,-250)],uvUnit)\n",
    "oakBox.addUVPoly([(-250,-75,250),(-250,400,250),(250,400,250),(250,-75,250)],uvUnit)\n",
    "oakBox.addUVPoly([(250,-75,250),(250,400,250),(250,375,-250),(250,-100,-250)],uvUnit)\n",
    "oakBox.addUVPoly([(-250,-75,250),(-250,400,250),(-250,375,-250),(-250,-100,-250)],uvUnit)\n",
    "oakBox.material(woodMat)\n",
    "\n",
    "# Build a horn:\n",
    "t1 = Torus().major(45).minor(5)\n",
    "t2 = Difference().add(t1,xRot(90)).add(cube,translate(-50,50,0).zRot(-45))\n",
    "circ = Group()\n",
    "circ.add(t2,translate(0,45,0))\n",
    "circ.add(sphere,scale(.1)*translate(-45,0,0)*zRot(-45)*translate(0,45,0))\n",
    "circ.add(sphere,scale(.1)*translate(-45,0,0)*zRot(-135)*translate(0,45,0))\n",
    "\n",
    "# A recursive function for building a level-n Great Horned Sphere\n",
    "def GHS(n,obj):\n",
    "    if n == 1:\n",
    "        return obj\n",
    "    else:\n",
    "        sGHS = GHS(n-1,obj)\n",
    "        g = Group()\n",
    "        g.add(obj)\n",
    "        g.add(sGHS,zRot(90)*scale(.55)*translate(45/(2**0.5),45+(45/(2**.5)),0))\n",
    "        g.add(sGHS,zRot(-90)*xRot(90)*scale(.55)*translate(-45/(2**0.5),45+(45/(2**.5)),0))\n",
    "        return g\n",
    "\n",
    "# Build a level 4 sphere.  Change this to higher numbers for more detail!\n",
    "collection = GHS(4,circ)\n",
    "\n",
    "# Construct the scene\n",
    "scene = Group().add(bulb,translate(0,300,-300))\n",
    "scene.add(oakBox).add(collection,goldMat,scale(2)*xRot(-30)*translate(0,-80,-50))\n",
    "\n",
    "# Describe the image features\n",
    "image.background(white).antiAlias(1)\n",
    "\n",
    "# Shoot the scene!\n",
    "camera.shoot(scene)\n"
   ]
  }
 ],
 "metadata": {
  "kernelspec": {
   "display_name": "Python 3",
   "language": "python",
   "name": "python3"
  },
  "language_info": {
   "codemirror_mode": {
    "name": "ipython",
    "version": 3
   },
   "file_extension": ".py",
   "mimetype": "text/x-python",
   "name": "python",
   "nbconvert_exporter": "python",
   "pygments_lexer": "ipython3",
   "version": "3.5.2"
  }
 },
 "nbformat": 4,
 "nbformat_minor": 2
}
