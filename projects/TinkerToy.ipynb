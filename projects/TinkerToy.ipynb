{
 "cells": [
  {
   "cell_type": "markdown",
   "metadata": {},
   "source": [
    "# Mort, the TinkerToy Man\n",
    "An excercise in engineering.\n"
   ]
  },
  {
   "cell_type": "code",
   "execution_count": 3,
   "metadata": {},
   "outputs": [
    {
     "data": {
      "image/png": "[encoded data removed]",
      "text/plain": [
       "<IPython.core.display.Image object>"
      ]
     },
     "metadata": {
      "image/png": {
       "height": 480,
       "width": 640
      }
     },
     "output_type": "display_data"
    }
   ],
   "source": [
    "## Our friend Mort, the headless TinkerToy guy.\n",
    "## (c) 1996, 1999, 2014 duane a. bailey\n",
    "##\n",
    "# By placing the mouse to the right of the command below, and hitting enter\n",
    "# you can get \"default-camera\" to tell you the types of messages it will accept.\n",
    "from ambrosia import *\n",
    "\n",
    "# A cylinder that is 1\" tall and 1\" in diameter\n",
    "unit_cylinder = Group().add(cylinder,scale(.01))\n",
    "unit_cube = Group().add(cube,scale(0.01))\n",
    "\n",
    "# yellow stick is 2.25\" long, and 1/4\" diameter\n",
    "yellow_stick = Group().add(unit_cylinder,scale(0.25,2.5,0.25),yellowPlaster)\n",
    "\n",
    "# blue stick is longer, but just as wide\n",
    "blue_stick = Group().add(unit_cylinder,scale(0.25,3.333,0.25),bluePlaster)\n",
    "\n",
    "# orange (red) caps are 3/8\" in diameter, 1/2\" long\n",
    "orange_cap = Group().add(unit_cylinder,scale(0.375,0.5,0.375),redPlaster)\n",
    "\n",
    "# the double-male connector piece\n",
    "connector = Group().add(unit_cylinder,scale(0.25,1.25,0.25))\n",
    "connector.add(unit_cube,scale(0.75,0.0625,0.75))\n",
    "connector.material(whitePlaster)\n",
    "connector.handle(\"top\",(0,0.625,0))\n",
    "\n",
    "# astonishing engineering: the octagon connector\n",
    "wheel = Difference()\n",
    "wheel.add(unit_cylinder,scale(1.375,0.625,1.375)*xRot(-90),whitePlaster)\n",
    "wheel.add(unit_cylinder,scale(0.25,3,0.25)*xRot(-90),whitePlaster)\n",
    "\n",
    "# Now, put the pieces together:\n",
    "# First, a blue piece with a cap.\n",
    "#    1. blue stick is added\n",
    "#    2. add on orange cap 1.6666 inches below origin\n",
    "capped_blue_stick = Group().add(blue_stick).add(orange_cap,translate(0,-1.6666,0))\n",
    "\n",
    "# Second, build the bottom & feet\n",
    "bottom = Group().add(wheel).add(blue_stick,translate(0,-2,0)*zRot(-45))\n",
    "bottom.add(capped_blue_stick,translate(0,-2,0)*zRot(45))\n",
    "\n",
    "# headless shoulders\n",
    "top = Group().add(bottom,xRot(180)).add(connector,translate(0,1,0))\n",
    "# headless torso\n",
    "body = Group().add(top,yRot(30)*translate(0,1.5,0))\n",
    "body.add(yellow_stick)\n",
    "body.add(bottom,translate(0,-1.5,0))\n",
    "body.scale(20)\n",
    "mort = body\n",
    "\n",
    "# Lights, camera, action\n",
    "scene = Group().add(bulb,translate(0,300,-300))\n",
    "camera = Camera().subject(scene)\n",
    "image = camera.getImage()\n",
    "\n",
    "scene.add(body, scale(1.5))\n",
    "camera.shoot()\n"
   ]
  },
  {
   "cell_type": "code",
   "execution_count": null,
   "metadata": {},
   "outputs": [],
   "source": []
  }
 ],
 "metadata": {
  "kernelspec": {
   "display_name": "Python 3",
   "language": "python",
   "name": "python3"
  },
  "language_info": {
   "codemirror_mode": {
    "name": "ipython",
    "version": 3
   },
   "file_extension": ".py",
   "mimetype": "text/x-python",
   "name": "python",
   "nbconvert_exporter": "python",
   "pygments_lexer": "ipython3",
   "version": "3.7.8"
  }
 },
 "nbformat": 4,
 "nbformat_minor": 4
}
