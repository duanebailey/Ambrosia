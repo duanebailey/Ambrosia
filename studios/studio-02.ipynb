{
 "cells": [
  {
   "cell_type": "markdown",
   "metadata": {},
   "source": [
    "# Laboratory 2 (Simple Modeling with Ambrosia)\n",
    "\n",
    "#### Objective\n",
    "We construct a simple model.\n",
    "\n",
    "#### You are going to build a simple ambrosia model with the following simple guidelines\n",
    "* Your model should be constructed of several named parts (e.g nose, lips, horns etc). Good design considers how objects are oriented so as to make their ultimate use in other parts of the model straightforward.\n",
    "* Add some lights to your model. We have only just seen bulb, which has been added to scene, but other simple lights are possible. You can see how to create and add new lights to the model at the last section of this page.\n",
    "* Render several images. This can be done by moving the camera around your model so that you can take pictures of your model from different angles.\n",
    "* Turn in a folder, labeled **LastName-Lab2** with a copy of your best image **and** a copy of your model (as a **.py** file)\n",
    "* Update your wiki with a new section, == A Simple Model == which should include a representative image of your model."
   ]
  },
  {
   "cell_type": "code",
   "execution_count": null,
   "metadata": {},
   "outputs": [],
   "source": [
    "from ambrosia import *\n",
    "\n",
    "# this function makes sure that model images in this page are not drawn on top of one another\n",
    "def reset():\n",
    "    global sphere, cube, cylinder, cone, scene, camera, image, bulb\n",
    "    sphere = Sphere()\n",
    "    cube = Cube()\n",
    "    cylinder = Cylinder()\n",
    "    cone = Cone()\n",
    "    bulb = Light().color(white)\n",
    "    scene = Group().add(bulb,translate(0,300,-300))\n",
    "    camera = Camera().subject(scene)\n",
    "    image = camera.getImage()"
   ]
  },
  {
   "cell_type": "markdown",
   "metadata": {},
   "source": [
    "#### Don't forget to have the following two comands at the beginning of all your Ambrosia model programs.\n",
    "\n",
    "```python\n",
    "from ambrosia import *\n",
    "reset()\n",
    "```"
   ]
  },
  {
   "cell_type": "markdown",
   "metadata": {},
   "source": [
    "As an example, consider the snowman model below. The snowman is made of different parts such as the nose, eyes, head, etc. The different part are careful constructed so that they can fit together to form a full snowman. To understand how that was achieved, you can follow careful what the comments and variable names suggest. Feel free to tweak things around and see what changes in the model. \n",
    "\n",
    "Experiment with the model by taking pictures from different angles in the model and adding different lights as you wish. This will help you when building your own model."
   ]
  },
  {
   "cell_type": "code",
   "execution_count": null,
   "metadata": {},
   "outputs": [],
   "source": [
    "from ambrosia import *\n",
    "reset()\n",
    "\n",
    "noseSize=.5\n",
    "eyeSize=.1  # size of eye\n",
    "eyeUp=10     # angle of eye, above noze\n",
    "eyeAngle=25  # angle of eye, measured from midline\n",
    "# an orange material\n",
    "orange=(1,0.5,0)\n",
    "orangePlaster = Material()\n",
    "orangePlaster.type('plaster').color(orange)\n",
    "\n",
    "# the head of the snowman and its different parts\n",
    "# you can see how the nose(cone), eyes (two spheres) are added to the head\n",
    "head = Group()\n",
    "head.add(sphere,whitePlaster)\n",
    "head.add(cone,magentaPlaster,translate(0,50,0)*scale(0.24,1,0.24)*scale(noseSize)*xRot(-90)*translate(0,0,-45))\n",
    "head.add(sphere,blackPlaster,scale(eyeSize),translate(0,0,-50)*xRot(eyeUp)*yRot(eyeAngle))\n",
    "head.add(sphere,blackPlaster,scale(eyeSize),translate(0,0,-50)*xRot(eyeUp)*yRot(-eyeAngle))\n",
    "head.translate(0,50,0)\n",
    "head.scale(0.5)\n",
    "# sphere.translate(0,50,0)\n",
    "\n",
    "# the entire body of the snowman\n",
    "# you can see how the head and other parts of the snowman are put together\n",
    "snowman = Group()\n",
    "snowman.add(sphere,whitePlaster,translate(0,50,0))\n",
    "snowman.add(sphere,whitePlaster,translate(0,50,0)*scale(.75)*translate(0,100,0))\n",
    "snowman.add(head,orangePlaster,translate(0,175,0))\n",
    "# A second head, for 13-old boys:\n",
    "# snowman.add(head,purplePlaster,translate(0,225,0)*yRot(180))\n",
    "scene.add(snowman,scale(golden))\n",
    "# To see him in profile:\n",
    "# scene.add(snowman,scale(golden)*yRot(-90))\n",
    "camera.shoot(scene)"
   ]
  },
  {
   "cell_type": "markdown",
   "metadata": {},
   "source": [
    "Feel free to use however many code cells you need for your model starting with the one directly below this one. You can run any model code you write on this page by simultaneously pressing **shift and enter keys** on your keyboard while inside a specific code cell."
   ]
  },
  {
   "cell_type": "code",
   "execution_count": null,
   "metadata": {},
   "outputs": [],
   "source": []
  },
  {
   "cell_type": "code",
   "execution_count": null,
   "metadata": {},
   "outputs": [],
   "source": []
  },
  {
   "cell_type": "markdown",
   "metadata": {},
   "source": [
    "#### Some things to think about (answers are at the end of the page)\n",
    "Ambrosia makes use of a ray tracer. The ray tracer very accurately simulates the (sometimes multi-step) path that each light ray makes between the light and the camera. Assuming that simulating each step of a simulated light path takes the same amount of simulating time, which of the following do you think will increase the time it takes to generate an image?\n",
    "* Adding more lights?\n",
    "* Adding more objects?\n",
    "* Making different objects different colors?\n",
    "* Adding one or more mirrors?"
   ]
  },
  {
   "cell_type": "markdown",
   "metadata": {},
   "source": [
    "#### Things that you will learn soon, but can play with now:\n",
    "You can create new colors of plaster if you follow this recipe:\n",
    "\n",
    "```python\n",
    "\n",
    "ltYellow = (1,1,0.5) # RGB: 100% possible red, 100% green, 50% blue\n",
    "ltYellowPlaster = Material() \n",
    "ltYellowPlaster.type(’plaster’).color(ltYellow)\n",
    "```\n",
    "Each of the red/green/blue (RGB) values ranges from 0 to 1.\n",
    "\n",
    "You can create new lights from the color of the plaster you just created by following this:\n",
    "```python\n",
    "\n",
    "oldYellerBulb = Light() \n",
    "oldYellerBulb.color(ltYellow)\n",
    "```\n",
    "Adding a light to the scene will place it at the origin, so make sure you move it out of the way of your model. It shines in all directions.\n",
    "\n",
    "   You can adjust the image background and camera orientation. Two important coordinates|the position and the center of interest{determine how the camera is oriented. These could be changed in the default camera using:\n",
    "```python\n",
    "ltSepia = (.7,.6,.4) \n",
    "image.background(ltSepia) # yesteryear! \n",
    "camera.pos((0,500,-500)).COI((0,0,0))\n",
    "```\n",
    "\n",
    "#### Thinking about ray tracing (from above). \n",
    "The ray tracer provides realistic modeling of a scene because it traces the actual path of light rays. This can be done fairly quickly, but it's nowhere near the speed of light, itself! If you make the path from a light source to a pixel complicated that will make its simulation equally complex. So:\n",
    "\n",
    "* Adding more lights will increase the number of light rays and, as a result, the amount of simulation necessary. More lights slow the rendering of images.\n",
    "* Adding more objects will not generally increase the complexity of simulating the paths of light. More objects will generally absorb or obscure the light. Adding many objects, of course, makes the scene more difficult to setup.\n",
    "* Making different objects different colors does not make light simulation more complex.\n",
    "* Adding one or more mirrors, however, causes the light paths to be made more complex. Mirrors (and \"shiny things\") can greatly increase the time to render an image with a ray tracer.\n",
    "\n",
    "Animating one single frame of a movie can take 12 hours or more!"
   ]
  },
  {
   "cell_type": "code",
   "execution_count": null,
   "metadata": {},
   "outputs": [],
   "source": []
  }
 ],
 "metadata": {
  "kernelspec": {
   "display_name": "Python 3",
   "language": "python",
   "name": "python3"
  },
  "language_info": {
   "codemirror_mode": {
    "name": "ipython",
    "version": 3
   },
   "file_extension": ".py",
   "mimetype": "text/x-python",
   "name": "python",
   "nbconvert_exporter": "python",
   "pygments_lexer": "ipython3",
   "version": "3.7.3"
  }
 },
 "nbformat": 4,
 "nbformat_minor": 2
}
