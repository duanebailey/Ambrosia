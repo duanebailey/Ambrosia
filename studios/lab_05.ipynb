{
 "cells": [
  {
   "cell_type": "markdown",
   "metadata": {},
   "source": [
    "# Laboratory 5 (UV-Mapping)\n",
    "#### Objective\n",
    "We'll gain experience with UV-mapped mesh structures.\n",
    "\n",
    "#### What is required.\n",
    "This week, a quick exercise: I'd like you to artfully present three images before a backdrop. Each of the objects|the images and the backdrop| should be a Mesh object containing one or more UV-mapped polygons. Here are the details:\n",
    "\n",
    "1. Your scene must contain exactly four objects, each of which is a Mesh targeted by a dedicated, surface-imaged material. (Lectures 5 and 8 cover this material in some detail.)\n",
    "\n",
    "2. One of the objects must be a backdrop that completely obscures the \\in\f",
    "nite beyond\". (You can think of this as the \"environment\" for your other objects, much like the birch tree wallpaper in WCMA's Both Sides Now exhibit.)\n",
    "\n",
    "3. The remaining three objects are 2D surfaces that display separate images. These could be representations of \\ephemera\": photos, postcards, posters, ticket stubs, etc. Ideally, the images will not be distorted by the mapping (I'll talk about techniques in lab).\n",
    "\n",
    "4. At least one of the ephemera should involve a non-trivial UV-mapping. It could be restrictive (like a torn ticket stub), or perhaps it could be a repeated image, like a contact sheet of formal photographs.\n",
    "\n",
    "5. When you are satisfied with your model, I'd like you to render the \f",
    "nal image at a resolution suitable for use as a background screen, sided 1920×1080 or larger. A line like this will help: \n",
    "\n",
    "    ```python\n",
    "    image.dimensions(1920,1080)\n",
    "    ```\n",
    "       \n",
    "6. Because this a constrained lab with a specific purpose, this week's e\u000b",
    "orts will be subjectively evaluated by just the TAs and myself. Still, I encourage you to think about an artistic presentation.\n",
    "\n",
    "7. If you find this too constraining, consider folding one or more of the Mesh objects so that it actually occupies three-space.\n",
    "\n",
    "8. Turn in your model and desktop image. Make sure you place these in a folder, with your name: Lastname-Lab5.\n",
    "\n",
    "9. Update your wiki page with your new image under a section entitled\n",
    "\n",
    "      == UV-Mapped Ephemera ==\n",
    "      \n",
    "   Make sure you include the image as a \\thumb\". Note that you can also specify the size of images displayed in this manner:\n",
    "   \n",
    "      [[Image:Bailey-Postcards.png|thumb|100px|left|Postcards from the road.]]\n"
   ]
  },
  {
   "cell_type": "code",
   "execution_count": null,
   "metadata": {},
   "outputs": [],
   "source": [
    "from ambrosia import *\n",
    "\n",
    "# this function makes sure that model images in this page are not drawn on top of one another\n",
    "def reset():\n",
    "    global sphere, cube, cylinder, cone, scene, camera, image, bulb\n",
    "    sphere = Sphere()\n",
    "    cube = Cube()\n",
    "    cylinder = Cylinder()\n",
    "    cone = Cone()\n",
    "    bulb = Light().color(white)\n",
    "    scene = Group().add(bulb,translate(0,300,-300))\n",
    "    camera = Camera().subject(scene)\n",
    "    image = camera.getImage()"
   ]
  },
  {
   "cell_type": "markdown",
   "metadata": {},
   "source": [
    "#### As usual, don't forget to have the following two comands at the beginning of all your Ambrosia model programs.\n",
    "\n",
    "```python\n",
    "from ambrosia import *\n",
    "reset()\n",
    "```"
   ]
  },
  {
   "cell_type": "markdown",
   "metadata": {},
   "source": [
    "You can take inspiration from the many models in the CSwiki's site of the course."
   ]
  },
  {
   "cell_type": "markdown",
   "metadata": {},
   "source": [
    "Again, feel free to use however many code cells you need for your model starting with the one directly below this one. You can run any model code you write on this page by simultaneously pressing **shift and enter keys** on your keyboard while inside a specific code cell."
   ]
  },
  {
   "cell_type": "code",
   "execution_count": null,
   "metadata": {},
   "outputs": [],
   "source": []
  }
 ],
 "metadata": {
  "kernelspec": {
   "display_name": "Python 3",
   "language": "python",
   "name": "python3"
  },
  "language_info": {
   "codemirror_mode": {
    "name": "ipython",
    "version": 3
   },
   "file_extension": ".py",
   "mimetype": "text/x-python",
   "name": "python",
   "nbconvert_exporter": "python",
   "pygments_lexer": "ipython3",
   "version": "3.7.3"
  }
 },
 "nbformat": 4,
 "nbformat_minor": 2
}
