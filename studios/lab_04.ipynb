{
 "cells": [
  {
   "cell_type": "markdown",
   "metadata": {},
   "source": [
    "# Laboratory 4 (Realistic Models and Materials)\n",
    "#### Objective\n",
    "We learn to manipulate materials to make models look realistic.\n",
    "\n",
    "#### What is required.\n",
    "Over the next week, I'd like you to develop a realistic model of some object. The main objective is to develop some specialized materials. It will also be important to show off your object by placing it in an environment that helps the viewer understand the object.\n",
    "\n",
    "\n",
    "1. Make a pass through the older gallery tours to see what people have done in the past. This will give you some idea of what might be possible. Simple, everyday objects often work well.\n",
    "\n",
    "2. Construct your realistic model in a hierarchical manner: primitive and grouped objects should be grouped together to form the whole. Make sure you use comments and appropriate names.\n",
    "\n",
    "3. **Develop at least two new materials** for use in your model. You can see some material samples on the Materials and Models cswiki pages. Parameters you may wish to set include:\n",
    "    (a) Color.\n",
    "    (b) Transparency and refraction\n",
    "    (c) Roughness, reflection, and specularity\n",
    "\n",
    "4. Turn in your model and your best images. Make sure you place these in a folder, with your name: Lastname-Lab4.\n",
    "\n",
    "5. Update your wiki page with your new image under section \n",
    "    == A Realistic Model =="
   ]
  },
  {
   "cell_type": "code",
   "execution_count": null,
   "metadata": {},
   "outputs": [],
   "source": [
    "from ambrosia import *\n",
    "\n",
    "# this function makes sure that model images in this page are not drawn on top of one another\n",
    "def reset():\n",
    "    global sphere, cube, cylinder, cone, scene, camera, image, bulb\n",
    "    sphere = Sphere()\n",
    "    cube = Cube()\n",
    "    cylinder = Cylinder()\n",
    "    cone = Cone()\n",
    "    bulb = Light().color(white)\n",
    "    scene = Group().add(bulb,translate(0,300,-300))\n",
    "    camera = Camera().subject(scene)\n",
    "    image = camera.getImage()"
   ]
  },
  {
   "cell_type": "markdown",
   "metadata": {},
   "source": [
    "#### As usual, don't forget to have the following two comands at the beginning of all your Ambrosia model programs.\n",
    "\n",
    "```python\n",
    "from ambrosia import *\n",
    "reset()\n",
    "```"
   ]
  },
  {
   "cell_type": "markdown",
   "metadata": {},
   "source": [
    "You can take inspiration from the following model and many others in the CSwiki's site of the course."
   ]
  },
  {
   "cell_type": "code",
   "execution_count": null,
   "metadata": {},
   "outputs": [],
   "source": [
    "# A model that plays with materials\n",
    "from ambrosia import *\n",
    "\n",
    "# the stage:\n",
    "plane = Plane()\n",
    "\n",
    "stage = Group()\n",
    "stage.add(plane,whitePlaster)\n",
    "stage.add(plane,mirrorMat,xRot(-90)*translate(0,0,500))\n",
    "\n",
    "# the lighting setup\n",
    "lighting = Group()\n",
    "lighting.add(bulb,translate(0,300,-300))\n",
    "lighting.add(bulb,translate(-300,300,0))\n",
    "lighting.add(bulb,translate(300,300,0))\n",
    "\n",
    "# typical \"tribe member\"\n",
    "ball = Sphere()\n",
    "ball.scale(.5)\n",
    "ball.translate(0,25,0)\n",
    "ball.scale(.4,1,.4)\n",
    "\n",
    "# we build a group with a ball at each of the\n",
    "# angles from 0 to 180 (inclusive), every 10 degrees\n",
    "tribe = Group()\n",
    "for angle in range(0,180+1,10):\n",
    "    # pick a random height\n",
    "    t = scale(1,rand(1,2),1)\n",
    "\n",
    "    # rotate the ball around the origin based on angle\n",
    "    t = t*translate(200,0,0)*yRot(-angle) # placement\n",
    "\n",
    "    # now, construct a new material\n",
    "    m = Material()\n",
    "    # we pick a pastel color whose hue ranges from 0 to 360\n",
    "    m.color(hsv2rgb([angle*2,.5,1]))\n",
    "    #m.transparency(0) # and, thus, no refraction\n",
    "    #m.reflection(.5)\n",
    "    #m.roughness(0.05)\n",
    "    #m.specularity(0.5)\n",
    "    # uncomment this for transparent materials\n",
    "    # since angle ranges from 0 to 180, the following is 0 to 1\n",
    "    #m.transparency(angle/180)\n",
    "    #m.refraction(1.5)\n",
    "    #m.roughness(0.05)\n",
    "    #m.specularity(0)\n",
    "    #m.reflection(0)\n",
    "    tribe.add(ball,t,m)\n",
    "\n",
    "# Here is an object behind the tribe members to observe\n",
    "# any transparency\n",
    "log = Cylinder()\n",
    "log.material(bluePlaster)\n",
    "log.zRot(-90).translate(0,50,0).scale(4.5,.25,.25)\n",
    "\n",
    "# build up the scene\n",
    "scene = Group()\n",
    "scene.add(lighting)\n",
    "scene.add(stage)\n",
    "scene.add(tribe)\n",
    "scene.add(log,translate(0,0,250))\n",
    "\n",
    "\n",
    "# uncomment the following to get the best pictures\n",
    "#image.antiAlias(1)\n",
    "\n",
    "# lift default camera straight up\n",
    "camera.pos(translate(0,200,0))\n",
    "camera.shoot(scene)"
   ]
  },
  {
   "cell_type": "markdown",
   "metadata": {},
   "source": [
    "Again, feel free to use however many code cells you need for your model starting with the one directly below this one. You can run any model code you write on this page by simultaneously pressing **shift and enter keys** on your keyboard while inside a specific code cell."
   ]
  },
  {
   "cell_type": "code",
   "execution_count": null,
   "metadata": {},
   "outputs": [],
   "source": []
  },
  {
   "cell_type": "code",
   "execution_count": null,
   "metadata": {},
   "outputs": [],
   "source": []
  }
 ],
 "metadata": {
  "kernelspec": {
   "display_name": "Python 3",
   "language": "python",
   "name": "python3"
  },
  "language_info": {
   "codemirror_mode": {
    "name": "ipython",
    "version": 3
   },
   "file_extension": ".py",
   "mimetype": "text/x-python",
   "name": "python",
   "nbconvert_exporter": "python",
   "pygments_lexer": "ipython3",
   "version": "3.7.3"
  }
 },
 "nbformat": 4,
 "nbformat_minor": 2
}
