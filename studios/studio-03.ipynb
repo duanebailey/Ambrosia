{
 "cells": [
  {
   "cell_type": "markdown",
   "metadata": {},
   "source": [
    "# Laboratory 3 (Sweeps and Extrudes)\n",
    "#### Objective\n",
    "We play with swept and extruded Mesh objects, as well as Prism and Spindle objects.\n",
    "\n",
    "#### What is required.\n",
    "This week I would like you to construct a new model|anything you wish, but it must include at least one extruded Mesh or Prism object and a swept Mesh or Spindle object. Again, it does not have to be a substantial model, but it should demonstrate your facility with these primitives.\n",
    "\n",
    "**Some guidelines to follow:**\n",
    "1. Please construct your model (as before) in a *hierarchical manner*: primitive and grouped objects, grouped together to form the whole. Use comments to make your model more readable. (You might do this experiment: look at your last model and see if you can still quickly understand how it works. If not: you need more comments.)                                                        \n",
    "2. Use an extrude-based Mesh or a Prism primitive object:                    \n",
    "   * To extrude a cube we would construct a Mesh object with:\n",
    "       \n",
    "       ```python\n",
    "       frontFace = [(-50,-50,-50),(50,-50,-50),(50,50,-50),(-50,50,-50)]\n",
    "       box = extrude(frontFace,translate(0,0,100))\n",
    "        ```\n",
    "   * To construct a cube from a Prism, we might:\n",
    "                 \n",
    "        ```python\n",
    "        frontFace = raisePoly([(-50,-50),(50,-50),(50,50),(-50,50)]) \n",
    "        box = Prism().profile(frontFace)\n",
    "        ```  \n",
    "        \n",
    "3. Use a sweep-based Mesh or a Spindle object:\n",
    "    * To sweep an octagonal planter with an 8-sided hole in the bottom:\n",
    "    \n",
    "        ```python\n",
    "        # this planter has an octagonal drain hole in the bottom\n",
    "        cutaway = raisePoly([(10,0),(50,0),(75,50),(75,60),(60,60), (60,50),(50,10),(10,10),(10,0)]) \n",
    "        planter = sweep(cutaway,8)\n",
    "        ```\n",
    "    \n",
    "    * To construct a round flower pot (with a round hole):\n",
    "        \n",
    "        ```python\n",
    "        # define cutaway as above \n",
    "        flowerPot = Lathe().profile(cutaway)\n",
    "        ```\n",
    "\n",
    "4. If you haven't already, experiment with CSG primitives (differences and intersections).\n",
    "\n",
    "5. Turn in your best image as a .png file and your model as a .py file. **Make sure you turn in your image and model in a folder, labeled with your name:** Lastname-Lab3. **Models not turned in in a folder with not be graded.**\n",
    "\n",
    "6. Finally, update your wiki (we're all watching!) with a section describing your new model called == Model with Sweep and Extrude == "
   ]
  },
  {
   "cell_type": "code",
   "execution_count": null,
   "metadata": {},
   "outputs": [],
   "source": [
    "from ambrosia import *\n",
    "# this function makes sure that model images in this page are not drawn on top of one another\n",
    "def reset():\n",
    "    global sphere, cube, cylinder, cone, scene, camera, image, bulb\n",
    "    sphere = Sphere()\n",
    "    cube = Cube()\n",
    "    cylinder = Cylinder()\n",
    "    cone = Cone()\n",
    "    bulb = Light().color(white)\n",
    "    scene = Group().add(bulb,translate(0,300,-300))\n",
    "    camera = Camera().subject(scene)\n",
    "    image = camera.getImage()"
   ]
  },
  {
   "cell_type": "markdown",
   "metadata": {},
   "source": [
    "#### As usual, don't forget to have the following two comands at the beginning of all your Ambrosia model programs.\n",
    "\n",
    "```python\n",
    "from ambrosia import *\n",
    "reset()\n",
    "```"
   ]
  },
  {
   "cell_type": "markdown",
   "metadata": {},
   "source": [
    "As examples of extrudes and sweeps, you can use the following two cubes' models "
   ]
  },
  {
   "cell_type": "code",
   "execution_count": null,
   "metadata": {},
   "outputs": [],
   "source": [
    "from ambrosia import *\n",
    "reset()\n",
    "\n",
    "# build a cube using extrude.\n",
    "square = [(-50,-50),(50,-50),(50,50),(-50,50)]\n",
    "square3D = raisePoly(square)\n",
    "front = translate(0,0,-50).mapPoly(square3D)\n",
    "\n",
    "cube2 = extrude(front,translate(0,0,100))\n",
    "scene.add(cube2,redPlaster)\n",
    "camera.pos((-150,150,-200)).shoot()"
   ]
  },
  {
   "cell_type": "code",
   "execution_count": null,
   "metadata": {},
   "outputs": [],
   "source": [
    "from ambrosia import *\n",
    "reset()\n",
    "\n",
    "# build a cube using sweep!\n",
    "# This cube is oriented so one diameter is along the x-axis\n",
    "from math import sqrt\n",
    "s2 = sqrt(2)\n",
    "radius = [(0,-50),(50*s2,-50),(50*s2,50),(0,50)]\n",
    "radius3D = raisePoly(radius)\n",
    "\n",
    "cube2 = sweep(radius3D,4)\n",
    "scene.add(cube2,redPlaster)\n",
    "camera.pos(translate(0,200,0)).shoot()"
   ]
  },
  {
   "cell_type": "markdown",
   "metadata": {},
   "source": [
    "Feel free to use however many code cells you need for your model starting with the one directly below this one. You can run any model code you write on this page by simultaneously pressing **shift and enter keys** on your keyboard while inside a specific code cell."
   ]
  },
  {
   "cell_type": "code",
   "execution_count": null,
   "metadata": {},
   "outputs": [],
   "source": []
  },
  {
   "cell_type": "code",
   "execution_count": null,
   "metadata": {},
   "outputs": [],
   "source": []
  },
  {
   "cell_type": "markdown",
   "metadata": {},
   "source": [
    "**Things to Things to remember about using the lab day-to-day:**\n",
    "\n",
    "1. When you come to lab, you might consider rebooting the computer. This cleans out the temporary files from previous ambrosia users.\n",
    "\n",
    "2. After starting a terminal window:\n",
    "    (a) Type source 109. This is important. If you don't do this, you'll get complaints that python3 doesn't know about ambrosia. Sad, huh?\n",
    "\n",
    "    (b) To find out where you are, type pwd. This prints the current working directory. The tail end of this name is the name of the folder you're in.\n",
    "    \n",
    "    (c) If you want to change to your home directory: type cd ~\n",
    "    \n",
    "    (d) If you want to move up to the folder that contains the current folder, type cd .. (two does means \\parent\"; one dot means \\this folder\").\n",
    "\n",
    "3. You can get a Macintosh view of the current window with: open .\n",
    "\n",
    "4. You can use the TextEdit application to edit an (existing) python \f",
    "le with: open -e mymodelfile.py.\n"
   ]
  }
 ],
 "metadata": {
  "kernelspec": {
   "display_name": "Python 3",
   "language": "python",
   "name": "python3"
  },
  "language_info": {
   "codemirror_mode": {
    "name": "ipython",
    "version": 3
   },
   "file_extension": ".py",
   "mimetype": "text/x-python",
   "name": "python",
   "nbconvert_exporter": "python",
   "pygments_lexer": "ipython3",
   "version": "3.7.3"
  }
 },
 "nbformat": 4,
 "nbformat_minor": 2
}
